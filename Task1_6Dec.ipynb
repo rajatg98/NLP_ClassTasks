{
 "cells": [
  {
   "cell_type": "code",
   "execution_count": null,
   "metadata": {},
   "outputs": [],
   "source": [
    "# 17BCB0090\n",
    "# Rajat Gupta\n",
    "\n",
    "\n",
    "# Task 1"
   ]
  },
  {
   "cell_type": "code",
   "execution_count": 10,
   "metadata": {},
   "outputs": [
    {
     "data": {
      "text/plain": [
       "'Skakespeare gave the world best of theatrics'"
      ]
     },
     "execution_count": 10,
     "metadata": {},
     "output_type": "execute_result"
    }
   ],
   "source": [
    "s1 = \"Skakespeare gave the world best of theatrics\"\n",
    "s1"
   ]
  },
  {
   "cell_type": "code",
   "execution_count": 7,
   "metadata": {},
   "outputs": [
    {
     "data": {
      "text/plain": [
       "\"Shakespeare was born and raised in Stratford-upon-Avon, Warwickshire. At the age of\\n18, he married Anne Hathaway, with whom he had three children: Susanna and twins Hamnet and Judith. \\nSometime between 1585 and 1592, he began a successful career in London as an actor, writer, and part-owner \\nof a playing company called the Lord Chamberlain's Men, later known as the King's Men. At age 49 \\n(around 1613), he appears to have retired to Stratford, where he died three years later. Few records \\nof Shakespeare's private life survive; this has stimulated considerable speculation about such matters \\nas his physical appearance, his sexuality, his religious beliefs, and whether the works attributed to\\nhim were written by others.\""
      ]
     },
     "execution_count": 7,
     "metadata": {},
     "output_type": "execute_result"
    }
   ],
   "source": [
    "s1 = \"\"\"Shakespeare was born and raised in Stratford-upon-Avon, Warwickshire. At the age of\n",
    "18, he married Anne Hathaway, with whom he had three children: Susanna and twins Hamnet and Judith. \n",
    "Sometime between 1585 and 1592, he began a successful career in London as an actor, writer, and part-owner \n",
    "of a playing company called the Lord Chamberlain's Men, later known as the King's Men. At age 49 \n",
    "(around 1613), he appears to have retired to Stratford, where he died three years later. Few records \n",
    "of Shakespeare's private life survive; this has stimulated considerable speculation about such matters \n",
    "as his physical appearance, his sexuality, his religious beliefs, and whether the works attributed to\n",
    "him were written by others.\"\"\"\n",
    "s1"
   ]
  },
  {
   "cell_type": "code",
   "execution_count": 8,
   "metadata": {},
   "outputs": [
    {
     "data": {
      "text/plain": [
       "\"He didn't do the homework\""
      ]
     },
     "execution_count": 8,
     "metadata": {},
     "output_type": "execute_result"
    }
   ],
   "source": [
    "s1 = \"He didn't do the homework\"\n",
    "s1"
   ]
  },
  {
   "cell_type": "code",
   "execution_count": 9,
   "metadata": {},
   "outputs": [
    {
     "data": {
      "text/plain": [
       "'शेक्सपियर का जन्म और परवरिश स्ट्रैटफ़ोर्ड-ऑन-एवन, वार्विकशायर में हुई थी। 18 साल की उम्र में, उन्होंने ऐनी हैथवे से शादी की, जिनसे उनके तीन बच्चे हुए: सुसाना और जुड़वाँ हेमनेट और जूडिथ। 1585 और 1592 के बीच, उन्होंने लंदन में एक अभिनेता, लेखक और एक प्लेइंग कंपनी के भाग-मालिक के रूप में एक सफल करियर शुरू किया, जिसे लॉर्ड चेम्बरलेन मेन कहा जाता है, जिसे बाद में किंग्स मेन के नाम से जाना जाता है। 49 वर्ष (लगभग 1613) की उम्र में, वह स्ट्रैटफ़ोर्ड के लिए सेवानिवृत्त हो गए, जहाँ तीन साल बाद उनकी मृत्यु हो गई। शेक्सपियर के निजी जीवन के कुछ रिकॉर्ड बच गए; इस तरह के मामलों के बारे में उनकी शारीरिक उपस्थिति, उनकी कामुकता, उनकी धार्मिक मान्यताओं, और क्या उनके द्वारा किए गए कार्यों को दूसरों द्वारा लिखा गया था, के बारे में काफी अटकलें लगाई गई हैं।'"
      ]
     },
     "execution_count": 9,
     "metadata": {},
     "output_type": "execute_result"
    }
   ],
   "source": [
    "s1 = \"\"\"शेक्सपियर का जन्म और परवरिश स्ट्रैटफ़ोर्ड-ऑन-एवन, वार्विकशायर में हुई थी। 18 साल की उम्र में, उन्होंने ऐनी हैथवे से शादी की, जिनसे उनके तीन बच्चे हुए: सुसाना और जुड़वाँ हेमनेट और जूडिथ। 1585 और 1592 के बीच, उन्होंने लंदन में एक अभिनेता, लेखक और एक प्लेइंग कंपनी के भाग-मालिक के रूप में एक सफल करियर शुरू किया, जिसे लॉर्ड चेम्बरलेन मेन कहा जाता है, जिसे बाद में किंग्स मेन के नाम से जाना जाता है। 49 वर्ष (लगभग 1613) की उम्र में, वह स्ट्रैटफ़ोर्ड के लिए सेवानिवृत्त हो गए, जहाँ तीन साल बाद उनकी मृत्यु हो गई। शेक्सपियर के निजी जीवन के कुछ रिकॉर्ड बच गए; इस तरह के मामलों के बारे में उनकी शारीरिक उपस्थिति, उनकी कामुकता, उनकी धार्मिक मान्यताओं, और क्या उनके द्वारा किए गए कार्यों को दूसरों द्वारा लिखा गया था, के बारे में काफी अटकलें लगाई गई हैं।\"\"\"\n",
    "s1"
   ]
  },
  {
   "cell_type": "code",
   "execution_count": null,
   "metadata": {},
   "outputs": [],
   "source": []
  }
 ],
 "metadata": {
  "kernelspec": {
   "display_name": "Python 3",
   "language": "python",
   "name": "python3"
  },
  "language_info": {
   "codemirror_mode": {
    "name": "ipython",
    "version": 3
   },
   "file_extension": ".py",
   "mimetype": "text/x-python",
   "name": "python",
   "nbconvert_exporter": "python",
   "pygments_lexer": "ipython3",
   "version": "3.6.1"
  }
 },
 "nbformat": 4,
 "nbformat_minor": 2
}
